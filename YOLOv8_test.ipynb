{
 "cells": [
  {
   "cell_type": "markdown",
   "metadata": {},
   "source": [
    "Training setting\n",
    "\n",
    "1) Training from scratch"
   ]
  },
  {
   "cell_type": "code",
   "execution_count": null,
   "metadata": {},
   "outputs": [],
   "source": [
    "from ultralytics import YOLO\n",
    "\n",
    "# If you want to train a model using a customized backbone, you should modify the model_path\n",
    "# Copy and paste the directory of the YAML file of the customized backbone\n",
    "backbone_path = 'C:/Users/.../MODEL_BACKBONE.YAML'\n",
    "\n",
    "\n",
    "model = YOLO(backbone_path) \n",
    "#model = YOLO(backbone_path).load('yolov8n.pt')  # build from YAML and transfer weights\n",
    "\n",
    "# To start the train, you should copy and paste the directory of the YAML file for the dataset into data.\n",
    "results = model.train(data='C:/Users/.../DATA.YAML', batch = 8, epochs=12, imgsz=928)\n"
   ]
  },
  {
   "cell_type": "markdown",
   "metadata": {},
   "source": [
    "2) Training using pre-trained model"
   ]
  },
  {
   "cell_type": "code",
   "execution_count": null,
   "metadata": {},
   "outputs": [],
   "source": [
    "from ultralytics import YOLO\n",
    "\n",
    "# To start the training using pre-trained model, we should select the pre-trained model first.\n",
    "# In the default setting, 'yolov8n.pt' is used\n",
    "model = YOLO('yolov8n.pt')  # load a pretrained model (recommended for training)\n",
    "\n",
    "# To start the train, you should copy and paste the directory of the YAML file for the dataset into data.\n",
    "results = model.train(data='C:/Users/.../DATA.YAML', epochs=12, imgsz=928)"
   ]
  },
  {
   "cell_type": "markdown",
   "metadata": {},
   "source": [
    "Visual Comparison using predictions"
   ]
  },
  {
   "cell_type": "markdown",
   "metadata": {},
   "source": [
    "1) Prediction using a single model"
   ]
  },
  {
   "cell_type": "code",
   "execution_count": null,
   "metadata": {},
   "outputs": [],
   "source": [
    "from ultralytics import YOLO\n",
    "from PIL import Image\n",
    "import cv2\n",
    "\n",
    "# Load a trained model\n",
    "# You should copy and paste the exact directory of the model\n",
    "model_path = 'C:/Users/...model/weights/best.pt'\n",
    "\n",
    "model = YOLO(model_path)\n",
    "\n",
    "# Choosing the image for the prediction\n",
    "# Select the path to the image you want to see the prediction\n",
    "source = 'C:/Users/.../DOTA_Training_Set/images/P0002.png'\n",
    "\n",
    "# Run inference on the source\n",
    "#results = model(source, label = False)  # list of Results objects\n",
    "results = model.predict(source, show_labels = False, show_conf = False, save = True)\n",
    "\n",
    "# Show the results\n",
    "for r in results:\n",
    "    # plot a BGR numpy array of predictions\n",
    "    im_array = r.plot(labels=False)\n",
    "    # RGB PIL image  \n",
    "    im = Image.fromarray(im_array[..., ::-1])\n",
    "    # show image\n",
    "    im.show()  \n",
    "    # save image\n",
    "    #im.save('prediction_1.jpg')  "
   ]
  },
  {
   "cell_type": "markdown",
   "metadata": {},
   "source": [
    "2) Comparison of two models"
   ]
  },
  {
   "cell_type": "code",
   "execution_count": null,
   "metadata": {},
   "outputs": [],
   "source": [
    "from ultralytics import YOLO\n",
    "from PIL import Image\n",
    "import numpy as np\n",
    "import matplotlib.pyplot as plt\n",
    "%matplotlib inline\n",
    "\n",
    "# Load pretrained YOLO models\n",
    "# You should copy and paste the exact directory of the model\n",
    "model_path_1 = 'C:/Users/.../weights/best.pt'\n",
    "model_path_2 = 'C:/Users/.../weights/best.pt'\n",
    "\n",
    "model_1 = YOLO(model_path_1)\n",
    "model_2 = YOLO(model_path_2)\n",
    "\n",
    "\n",
    "# Choosing the image for the prediction\n",
    "# Select the path to the image you want to see the prediction\n",
    "image_path = 'C:/Users/.../DOTA_Training_Set/images/P0002.png'\n",
    "\n",
    "\n",
    "# Run inference on the image with both models\n",
    "results_1 = model_1.predict(image_path, show_labels=False, show_conf=False)\n",
    "results_2 = model_2.predict(image_path, show_labels=False, show_conf=False)\n",
    "\n",
    "# Handle multiple results by plotting the first result or an aggregated view\n",
    "def plot_results(results, title):\n",
    "    if isinstance(results, list) and len(results) > 0:\n",
    "        # Check if the result has a 'plot' method and call it\n",
    "        if hasattr(results[0], 'plot'):\n",
    "            img = results[0].plot(labels = False)\n",
    "            img = Image.fromarray(img[..., ::-1])  # Convert BGR to RGB if necessary\n",
    "        else:\n",
    "            img = Image.new('RGB', (640, 480), color = 'red')  # Create a blank red image if plotting is not supported\n",
    "    else:\n",
    "        # Fallback if no results or unexpected format\n",
    "        img = Image.new('RGB', (640, 480), color = 'red')  # Create a blank red image\n",
    "    return img\n",
    "\n",
    "# Convert predictions to images\n",
    "im_1 = plot_results(results_1, 'Model 1')\n",
    "im_2 = plot_results(results_2, 'Model 2')\n",
    "\n",
    "# Plot both predictions side-by-side\n",
    "fig, axs = plt.subplots(1, 2, figsize=(12, 6))\n",
    "axs[0].imshow(np.asarray(im_1))\n",
    "axs[0].set_title('Model 1')\n",
    "axs[0].axis('off')  # Hide axes\n",
    "\n",
    "axs[1].imshow(np.asarray(im_2))\n",
    "axs[1].set_title('Model 2')\n",
    "axs[1].axis('off')  # Hide axes\n",
    "\n",
    "plt.show()\n"
   ]
  }
 ],
 "metadata": {
  "kernelspec": {
   "display_name": "Python 3",
   "language": "python",
   "name": "python3"
  },
  "language_info": {
   "codemirror_mode": {
    "name": "ipython",
    "version": 3
   },
   "file_extension": ".py",
   "mimetype": "text/x-python",
   "name": "python",
   "nbconvert_exporter": "python",
   "pygments_lexer": "ipython3",
   "version": "3.8.0"
  }
 },
 "nbformat": 4,
 "nbformat_minor": 2
}
